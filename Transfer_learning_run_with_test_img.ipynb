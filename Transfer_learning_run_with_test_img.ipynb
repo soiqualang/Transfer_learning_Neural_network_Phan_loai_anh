{
  "nbformat": 4,
  "nbformat_minor": 0,
  "metadata": {
    "colab": {
      "name": "Transfer_learning_run_with_test_img.ipynb",
      "version": "0.3.2",
      "provenance": [],
      "collapsed_sections": [],
      "include_colab_link": true
    },
    "kernelspec": {
      "name": "python3",
      "display_name": "Python 3"
    }
  },
  "cells": [
    {
      "cell_type": "markdown",
      "metadata": {
        "id": "view-in-github",
        "colab_type": "text"
      },
      "source": [
        "<a href=\"https://colab.research.google.com/github/soiqualang/Transfer_learning_Neural_network_Phan_loai_anh/blob/master/Transfer_learning_run_with_test_img.ipynb\" target=\"_parent\"><img src=\"https://colab.research.google.com/assets/colab-badge.svg\" alt=\"Open In Colab\"/></a>"
      ]
    },
    {
      "metadata": {
        "id": "0d9XnNKvdPTf",
        "colab_type": "text"
      },
      "cell_type": "markdown",
      "source": [
        "Sau khi train xong tập dữ liệu mẫu thì ta tiến hành test thử với hình khác\n",
        "\n",
        "Mô hình mình lưu ở đây\n",
        "\n",
        "https://github.com/soiqualang/Transfer_learning_Neural_network_Phan_loai_anh\n",
        "\n",
        "Repo transfer learning\n",
        "\n",
        "https://github.com/googlecodelabs/tensorflow-for-poets-2"
      ]
    },
    {
      "metadata": {
        "id": "EFTV1HqzdJ9b",
        "colab_type": "code",
        "colab": {}
      },
      "cell_type": "code",
      "source": [
        "mkdir t1"
      ],
      "execution_count": 0,
      "outputs": []
    },
    {
      "metadata": {
        "id": "G60N3Dd1diK3",
        "colab_type": "code",
        "colab": {
          "base_uri": "https://localhost:8080/",
          "height": 34
        },
        "outputId": "48fa0bd4-a44c-4202-8151-1de9bd75482d"
      },
      "cell_type": "code",
      "source": [
        "cd t1"
      ],
      "execution_count": 2,
      "outputs": [
        {
          "output_type": "stream",
          "text": [
            "/content/t1\n"
          ],
          "name": "stdout"
        }
      ]
    },
    {
      "metadata": {
        "id": "0OFEccsydm8m",
        "colab_type": "code",
        "colab": {
          "base_uri": "https://localhost:8080/",
          "height": 309
        },
        "outputId": "1fe501f5-1a7c-415a-edc4-cacf05bc938c"
      },
      "cell_type": "code",
      "source": [
        "!wget https://github.com/soiqualang/Transfer_learning_Neural_network_Phan_loai_anh/raw/master/backup/retrained_graph.pb"
      ],
      "execution_count": 3,
      "outputs": [
        {
          "output_type": "stream",
          "text": [
            "--2019-04-18 03:21:39--  https://github.com/soiqualang/Transfer_learning_Neural_network_Phan_loai_anh/raw/master/backup/retrained_graph.pb\n",
            "Resolving github.com (github.com)... 192.30.255.113, 192.30.255.112\n",
            "Connecting to github.com (github.com)|192.30.255.113|:443... connected.\n",
            "HTTP request sent, awaiting response... 302 Found\n",
            "Location: https://media.githubusercontent.com/media/soiqualang/Transfer_learning_Neural_network_Phan_loai_anh/master/backup/retrained_graph.pb [following]\n",
            "--2019-04-18 03:21:40--  https://media.githubusercontent.com/media/soiqualang/Transfer_learning_Neural_network_Phan_loai_anh/master/backup/retrained_graph.pb\n",
            "Resolving media.githubusercontent.com (media.githubusercontent.com)... 151.101.0.133, 151.101.64.133, 151.101.128.133, ...\n",
            "Connecting to media.githubusercontent.com (media.githubusercontent.com)|151.101.0.133|:443... connected.\n",
            "HTTP request sent, awaiting response... 200 OK\n",
            "Length: 87458758 (83M) [application/octet-stream]\n",
            "Saving to: ‘retrained_graph.pb’\n",
            "\n",
            "retrained_graph.pb  100%[===================>]  83.41M  77.4MB/s    in 1.1s    \n",
            "\n",
            "2019-04-18 03:21:43 (77.4 MB/s) - ‘retrained_graph.pb’ saved [87458758/87458758]\n",
            "\n"
          ],
          "name": "stdout"
        }
      ]
    },
    {
      "metadata": {
        "id": "HBloRyDTdo8-",
        "colab_type": "code",
        "colab": {
          "base_uri": "https://localhost:8080/",
          "height": 34
        },
        "outputId": "4d9a2894-9b73-4f69-9980-1b48275db2f8"
      },
      "cell_type": "code",
      "source": [
        "cd ../"
      ],
      "execution_count": 4,
      "outputs": [
        {
          "output_type": "stream",
          "text": [
            "/content\n"
          ],
          "name": "stdout"
        }
      ]
    },
    {
      "metadata": {
        "id": "MQL2h5CDedIe",
        "colab_type": "code",
        "colab": {
          "base_uri": "https://localhost:8080/",
          "height": 102
        },
        "outputId": "d7f0c5dd-c729-47e2-a33a-cbe904d49fc7"
      },
      "cell_type": "code",
      "source": [
        "!git clone https://github.com/googlecodelabs/tensorflow-for-poets-2.git"
      ],
      "execution_count": 6,
      "outputs": [
        {
          "output_type": "stream",
          "text": [
            "Cloning into 'tensorflow-for-poets-2'...\n",
            "remote: Enumerating objects: 426, done.\u001b[K\n",
            "remote: Total 426 (delta 0), reused 0 (delta 0), pack-reused 426\u001b[K\n",
            "Receiving objects: 100% (426/426), 33.97 MiB | 34.75 MiB/s, done.\n",
            "Resolving deltas: 100% (159/159), done.\n"
          ],
          "name": "stdout"
        }
      ]
    },
    {
      "metadata": {
        "id": "7-zVyVB1egO2",
        "colab_type": "code",
        "colab": {
          "base_uri": "https://localhost:8080/",
          "height": 153
        },
        "outputId": "cb6a895f-c739-4d1c-9e69-1489f45a7039"
      },
      "cell_type": "code",
      "source": [
        "ls -la"
      ],
      "execution_count": 7,
      "outputs": [
        {
          "output_type": "stream",
          "text": [
            "total 48\n",
            "drwxr-xr-x 1 root root  4096 Apr 18 03:27 \u001b[0m\u001b[01;34m.\u001b[0m/\n",
            "drwxr-xr-x 1 root root  4096 Apr 18 03:20 \u001b[01;34m..\u001b[0m/\n",
            "-rw-r--r-- 1 root root 22782 Apr 18 03:27 5794835_d15905c7c8_n.jpg\n",
            "drwxr-xr-x 1 root root  4096 Apr  4 20:19 \u001b[01;34m.config\u001b[0m/\n",
            "drwxr-xr-x 1 root root  4096 Apr  4 20:20 \u001b[01;34msample_data\u001b[0m/\n",
            "drwxr-xr-x 2 root root  4096 Apr 18 03:21 \u001b[01;34mt1\u001b[0m/\n",
            "drwxr-xr-x 7 root root  4096 Apr 18 03:25 \u001b[01;34mtensorflow-for-poets-2\u001b[0m/\n"
          ],
          "name": "stdout"
        }
      ]
    },
    {
      "metadata": {
        "id": "7NpsHSjNfGKm",
        "colab_type": "code",
        "colab": {}
      },
      "cell_type": "code",
      "source": [
        "mv 5794835_d15905c7c8_n.jpg h1.jpg"
      ],
      "execution_count": 0,
      "outputs": []
    },
    {
      "metadata": {
        "id": "iuM-apPGfLX2",
        "colab_type": "code",
        "colab": {
          "base_uri": "https://localhost:8080/",
          "height": 153
        },
        "outputId": "50513216-3d00-4749-90b7-fd9233fdfc67"
      },
      "cell_type": "code",
      "source": [
        "ls -la"
      ],
      "execution_count": 9,
      "outputs": [
        {
          "output_type": "stream",
          "text": [
            "total 48\n",
            "drwxr-xr-x 1 root root  4096 Apr 18 03:28 \u001b[0m\u001b[01;34m.\u001b[0m/\n",
            "drwxr-xr-x 1 root root  4096 Apr 18 03:20 \u001b[01;34m..\u001b[0m/\n",
            "drwxr-xr-x 1 root root  4096 Apr  4 20:19 \u001b[01;34m.config\u001b[0m/\n",
            "-rw-r--r-- 1 root root 22782 Apr 18 03:27 h1.jpg\n",
            "drwxr-xr-x 1 root root  4096 Apr  4 20:20 \u001b[01;34msample_data\u001b[0m/\n",
            "drwxr-xr-x 2 root root  4096 Apr 18 03:21 \u001b[01;34mt1\u001b[0m/\n",
            "drwxr-xr-x 7 root root  4096 Apr 18 03:25 \u001b[01;34mtensorflow-for-poets-2\u001b[0m/\n"
          ],
          "name": "stdout"
        }
      ]
    },
    {
      "metadata": {
        "id": "5xmnhW2jfNSm",
        "colab_type": "code",
        "colab": {
          "base_uri": "https://localhost:8080/",
          "height": 275
        },
        "outputId": "33caa18e-af5a-4703-8b90-db4071ac7905"
      },
      "cell_type": "code",
      "source": [
        "!python3 /content/tensorflow-for-poets-2/scripts/label_image.py --graph=/content/t1/retrained_graph.pb --image /content/h1.jpg"
      ],
      "execution_count": 10,
      "outputs": [
        {
          "output_type": "stream",
          "text": [
            "2019-04-18 03:30:55.511375: W tensorflow/core/framework/op_def_util.cc:355] Op BatchNormWithGlobalNormalization is deprecated. It will cease to work in GraphDef version 9. Use tf.nn.batch_normalization().\n",
            "2019-04-18 03:30:55.794854: I tensorflow/core/platform/profile_utils/cpu_utils.cc:94] CPU Frequency: 2300000000 Hz\n",
            "2019-04-18 03:30:55.797652: I tensorflow/compiler/xla/service/service.cc:150] XLA service 0x29a46e0 executing computations on platform Host. Devices:\n",
            "2019-04-18 03:30:55.797715: I tensorflow/compiler/xla/service/service.cc:158]   StreamExecutor device (0): <undefined>, <undefined>\n",
            "Traceback (most recent call last):\n",
            "  File \"/content/tensorflow-for-poets-2/scripts/label_image.py\", line 121, in <module>\n",
            "    input_operation = graph.get_operation_by_name(input_name);\n",
            "  File \"/usr/local/lib/python3.6/dist-packages/tensorflow/python/framework/ops.py\", line 3606, in get_operation_by_name\n",
            "    return self.as_graph_element(name, allow_tensor=False, allow_operation=True)\n",
            "  File \"/usr/local/lib/python3.6/dist-packages/tensorflow/python/framework/ops.py\", line 3478, in as_graph_element\n",
            "    return self._as_graph_element_locked(obj, allow_tensor, allow_operation)\n",
            "  File \"/usr/local/lib/python3.6/dist-packages/tensorflow/python/framework/ops.py\", line 3538, in _as_graph_element_locked\n",
            "    \"graph.\" % repr(name))\n",
            "KeyError: \"The name 'import/input' refers to an Operation not in the graph.\"\n"
          ],
          "name": "stdout"
        }
      ]
    },
    {
      "metadata": {
        "id": "PSdhpSjKfwD_",
        "colab_type": "code",
        "colab": {
          "base_uri": "https://localhost:8080/",
          "height": 34
        },
        "outputId": "5638ff02-4a6d-4f8c-d404-d924e26d5daf"
      },
      "cell_type": "code",
      "source": [
        "cd /content/tensorflow-for-poets-2/scripts/"
      ],
      "execution_count": 12,
      "outputs": [
        {
          "output_type": "stream",
          "text": [
            "/content/tensorflow-for-poets-2/scripts\n"
          ],
          "name": "stdout"
        }
      ]
    },
    {
      "metadata": {
        "id": "mqXfaQWPg6Pv",
        "colab_type": "code",
        "colab": {
          "base_uri": "https://localhost:8080/",
          "height": 309
        },
        "outputId": "c87d942c-cf29-47bf-da91-e48dc20554a5"
      },
      "cell_type": "code",
      "source": [
        "!wget https://github.com/soiqualang/Transfer_learning_Neural_network_Phan_loai_anh/raw/master/backup/label_image2.py"
      ],
      "execution_count": 13,
      "outputs": [
        {
          "output_type": "stream",
          "text": [
            "--2019-04-18 03:36:39--  https://github.com/soiqualang/Transfer_learning_Neural_network_Phan_loai_anh/raw/master/backup/label_image2.py\n",
            "Resolving github.com (github.com)... 192.30.255.113, 192.30.255.112\n",
            "Connecting to github.com (github.com)|192.30.255.113|:443... connected.\n",
            "HTTP request sent, awaiting response... 302 Found\n",
            "Location: https://media.githubusercontent.com/media/soiqualang/Transfer_learning_Neural_network_Phan_loai_anh/master/backup/label_image2.py [following]\n",
            "--2019-04-18 03:36:39--  https://media.githubusercontent.com/media/soiqualang/Transfer_learning_Neural_network_Phan_loai_anh/master/backup/label_image2.py\n",
            "Resolving media.githubusercontent.com (media.githubusercontent.com)... 151.101.0.133, 151.101.64.133, 151.101.128.133, ...\n",
            "Connecting to media.githubusercontent.com (media.githubusercontent.com)|151.101.0.133|:443... connected.\n",
            "HTTP request sent, awaiting response... 200 OK\n",
            "Length: 4885 (4.8K) [application/octet-stream]\n",
            "Saving to: ‘label_image2.py’\n",
            "\n",
            "\rlabel_image2.py       0%[                    ]       0  --.-KB/s               \rlabel_image2.py     100%[===================>]   4.77K  --.-KB/s    in 0s      \n",
            "\n",
            "2019-04-18 03:36:39 (57.7 MB/s) - ‘label_image2.py’ saved [4885/4885]\n",
            "\n"
          ],
          "name": "stdout"
        }
      ]
    },
    {
      "metadata": {
        "id": "fKwzErAYg-CY",
        "colab_type": "code",
        "colab": {
          "base_uri": "https://localhost:8080/",
          "height": 309
        },
        "outputId": "636556d5-72bc-4b12-d192-80ed88329643"
      },
      "cell_type": "code",
      "source": [
        "!python3 /content/tensorflow-for-poets-2/scripts/label_image2.py --graph=/content/t1/retrained_graph.pb --image /content/h1.jpg"
      ],
      "execution_count": 14,
      "outputs": [
        {
          "output_type": "stream",
          "text": [
            "2019-04-18 03:37:03.839706: W tensorflow/core/framework/op_def_util.cc:355] Op BatchNormWithGlobalNormalization is deprecated. It will cease to work in GraphDef version 9. Use tf.nn.batch_normalization().\n",
            "2019-04-18 03:37:04.019544: I tensorflow/core/platform/profile_utils/cpu_utils.cc:94] CPU Frequency: 2300000000 Hz\n",
            "2019-04-18 03:37:04.019792: I tensorflow/compiler/xla/service/service.cc:150] XLA service 0x30726e0 executing computations on platform Host. Devices:\n",
            "2019-04-18 03:37:04.019827: I tensorflow/compiler/xla/service/service.cc:158]   StreamExecutor device (0): <undefined>, <undefined>\n",
            "Traceback (most recent call last):\n",
            "  File \"/content/tensorflow-for-poets-2/scripts/label_image2.py\", line 132, in <module>\n",
            "    labels = load_labels(label_file)\n",
            "  File \"/content/tensorflow-for-poets-2/scripts/label_image2.py\", line 65, in load_labels\n",
            "    proto_as_ascii_lines = tf.gfile.GFile(label_file).readlines()\n",
            "  File \"/usr/local/lib/python3.6/dist-packages/tensorflow/python/lib/io/file_io.py\", line 188, in readlines\n",
            "    self._preread_check()\n",
            "  File \"/usr/local/lib/python3.6/dist-packages/tensorflow/python/lib/io/file_io.py\", line 85, in _preread_check\n",
            "    compat.as_bytes(self.__name), 1024 * 512, status)\n",
            "  File \"/usr/local/lib/python3.6/dist-packages/tensorflow/python/framework/errors_impl.py\", line 528, in __exit__\n",
            "    c_api.TF_GetCode(self.status.status))\n",
            "tensorflow.python.framework.errors_impl.NotFoundError: tf_files/retrained_labels.txt; No such file or directory\n"
          ],
          "name": "stdout"
        }
      ]
    },
    {
      "metadata": {
        "id": "csO4qTPphJ__",
        "colab_type": "code",
        "colab": {
          "base_uri": "https://localhost:8080/",
          "height": 34
        },
        "outputId": "a304a59b-7894-464a-ffb8-6229da01d6cf"
      },
      "cell_type": "code",
      "source": [
        "cd /content/t1/"
      ],
      "execution_count": 15,
      "outputs": [
        {
          "output_type": "stream",
          "text": [
            "/content/t1\n"
          ],
          "name": "stdout"
        }
      ]
    },
    {
      "metadata": {
        "id": "rS4MHJ-5hkp3",
        "colab_type": "code",
        "colab": {
          "base_uri": "https://localhost:8080/",
          "height": 309
        },
        "outputId": "f6d506c3-933e-4d4f-8ca6-20ae3012574c"
      },
      "cell_type": "code",
      "source": [
        "!wget https://github.com/soiqualang/Transfer_learning_Neural_network_Phan_loai_anh/raw/master/backup/retrained_labels.txt"
      ],
      "execution_count": 17,
      "outputs": [
        {
          "output_type": "stream",
          "text": [
            "--2019-04-18 03:39:07--  https://github.com/soiqualang/Transfer_learning_Neural_network_Phan_loai_anh/raw/master/backup/retrained_labels.txt\n",
            "Resolving github.com (github.com)... 192.30.255.112, 192.30.255.113\n",
            "Connecting to github.com (github.com)|192.30.255.112|:443... connected.\n",
            "HTTP request sent, awaiting response... 302 Found\n",
            "Location: https://media.githubusercontent.com/media/soiqualang/Transfer_learning_Neural_network_Phan_loai_anh/master/backup/retrained_labels.txt [following]\n",
            "--2019-04-18 03:39:08--  https://media.githubusercontent.com/media/soiqualang/Transfer_learning_Neural_network_Phan_loai_anh/master/backup/retrained_labels.txt\n",
            "Resolving media.githubusercontent.com (media.githubusercontent.com)... 151.101.0.133, 151.101.64.133, 151.101.128.133, ...\n",
            "Connecting to media.githubusercontent.com (media.githubusercontent.com)|151.101.0.133|:443... connected.\n",
            "HTTP request sent, awaiting response... 200 OK\n",
            "Length: 40 [text/plain]\n",
            "Saving to: ‘retrained_labels.txt’\n",
            "\n",
            "\rretrained_labels.tx   0%[                    ]       0  --.-KB/s               \rretrained_labels.tx 100%[===================>]      40  --.-KB/s    in 0s      \n",
            "\n",
            "2019-04-18 03:39:08 (2.19 MB/s) - ‘retrained_labels.txt’ saved [40/40]\n",
            "\n"
          ],
          "name": "stdout"
        }
      ]
    },
    {
      "metadata": {
        "id": "QBe_Q2Xkhn13",
        "colab_type": "code",
        "colab": {
          "base_uri": "https://localhost:8080/",
          "height": 241
        },
        "outputId": "4b0fc00a-9c0f-43a8-f496-88d060acd5b3"
      },
      "cell_type": "code",
      "source": [
        "!python /content/tensorflow-for-poets-2/scripts/label_image2.py --graph=/content/t1/retrained_graph.pb --labels=/content/t1/retrained_labels.txt --output_layer=final_result --image=/content/h1.jpg"
      ],
      "execution_count": 23,
      "outputs": [
        {
          "output_type": "stream",
          "text": [
            "2019-04-18 03:41:53.201560: W tensorflow/core/framework/op_def_util.cc:355] Op BatchNormWithGlobalNormalization is deprecated. It will cease to work in GraphDef version 9. Use tf.nn.batch_normalization().\n",
            "2019-04-18 03:41:53.421509: I tensorflow/core/platform/profile_utils/cpu_utils.cc:94] CPU Frequency: 2300000000 Hz\n",
            "2019-04-18 03:41:53.421803: I tensorflow/compiler/xla/service/service.cc:150] XLA service 0x339c6e0 executing computations on platform Host. Devices:\n",
            "2019-04-18 03:41:53.421839: I tensorflow/compiler/xla/service/service.cc:158]   StreamExecutor device (0): <undefined>, <undefined>\n",
            "\n",
            "Evaluation time (1-image): 0.618s\n",
            "\n",
            "daisy (score=0.99820)\n",
            "sunflowers (score=0.00119)\n",
            "dandelion (score=0.00046)\n",
            "roses (score=0.00011)\n",
            "tulips (score=0.00004)\n"
          ],
          "name": "stdout"
        }
      ]
    },
    {
      "metadata": {
        "id": "NrAiOXHbh103",
        "colab_type": "code",
        "colab": {}
      },
      "cell_type": "code",
      "source": [
        ""
      ],
      "execution_count": 0,
      "outputs": []
    }
  ]
}