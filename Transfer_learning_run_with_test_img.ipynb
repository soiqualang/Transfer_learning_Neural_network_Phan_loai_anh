{
  "nbformat": 4,
  "nbformat_minor": 0,
  "metadata": {
    "colab": {
      "name": "Transfer_learning_run_with_test_img.ipynb",
      "version": "0.3.2",
      "provenance": [],
      "collapsed_sections": [],
      "include_colab_link": true
    },
    "kernelspec": {
      "name": "python3",
      "display_name": "Python 3"
    }
  },
  "cells": [
    {
      "cell_type": "markdown",
      "metadata": {
        "id": "view-in-github",
        "colab_type": "text"
      },
      "source": [
        "<a href=\"https://colab.research.google.com/github/soiqualang/Transfer_learning_Neural_network_Phan_loai_anh/blob/master/Transfer_learning_run_with_test_img.ipynb\" target=\"_parent\"><img src=\"https://colab.research.google.com/assets/colab-badge.svg\" alt=\"Open In Colab\"/></a>"
      ]
    },
    {
      "metadata": {
        "id": "0d9XnNKvdPTf",
        "colab_type": "text"
      },
      "cell_type": "markdown",
      "source": [
        "Sau khi train xong tập dữ liệu mẫu thì ta tiến hành test thử với hình khác\n",
        "\n",
        "Mô hình mình lưu ở đây\n",
        "\n",
        "https://github.com/soiqualang/Transfer_learning_Neural_network_Phan_loai_anh"
      ]
    },
    {
      "metadata": {
        "id": "EFTV1HqzdJ9b",
        "colab_type": "code",
        "colab": {}
      },
      "cell_type": "code",
      "source": [
        "mkdir t1"
      ],
      "execution_count": 0,
      "outputs": []
    },
    {
      "metadata": {
        "id": "G60N3Dd1diK3",
        "colab_type": "code",
        "colab": {
          "base_uri": "https://localhost:8080/",
          "height": 34
        },
        "outputId": "48fa0bd4-a44c-4202-8151-1de9bd75482d"
      },
      "cell_type": "code",
      "source": [
        "cd t1"
      ],
      "execution_count": 2,
      "outputs": [
        {
          "output_type": "stream",
          "text": [
            "/content/t1\n"
          ],
          "name": "stdout"
        }
      ]
    },
    {
      "metadata": {
        "id": "0OFEccsydm8m",
        "colab_type": "code",
        "colab": {
          "base_uri": "https://localhost:8080/",
          "height": 309
        },
        "outputId": "1fe501f5-1a7c-415a-edc4-cacf05bc938c"
      },
      "cell_type": "code",
      "source": [
        "!wget https://github.com/soiqualang/Transfer_learning_Neural_network_Phan_loai_anh/raw/master/backup/retrained_graph.pb"
      ],
      "execution_count": 3,
      "outputs": [
        {
          "output_type": "stream",
          "text": [
            "--2019-04-18 03:21:39--  https://github.com/soiqualang/Transfer_learning_Neural_network_Phan_loai_anh/raw/master/backup/retrained_graph.pb\n",
            "Resolving github.com (github.com)... 192.30.255.113, 192.30.255.112\n",
            "Connecting to github.com (github.com)|192.30.255.113|:443... connected.\n",
            "HTTP request sent, awaiting response... 302 Found\n",
            "Location: https://media.githubusercontent.com/media/soiqualang/Transfer_learning_Neural_network_Phan_loai_anh/master/backup/retrained_graph.pb [following]\n",
            "--2019-04-18 03:21:40--  https://media.githubusercontent.com/media/soiqualang/Transfer_learning_Neural_network_Phan_loai_anh/master/backup/retrained_graph.pb\n",
            "Resolving media.githubusercontent.com (media.githubusercontent.com)... 151.101.0.133, 151.101.64.133, 151.101.128.133, ...\n",
            "Connecting to media.githubusercontent.com (media.githubusercontent.com)|151.101.0.133|:443... connected.\n",
            "HTTP request sent, awaiting response... 200 OK\n",
            "Length: 87458758 (83M) [application/octet-stream]\n",
            "Saving to: ‘retrained_graph.pb’\n",
            "\n",
            "retrained_graph.pb  100%[===================>]  83.41M  77.4MB/s    in 1.1s    \n",
            "\n",
            "2019-04-18 03:21:43 (77.4 MB/s) - ‘retrained_graph.pb’ saved [87458758/87458758]\n",
            "\n"
          ],
          "name": "stdout"
        }
      ]
    },
    {
      "metadata": {
        "id": "HBloRyDTdo8-",
        "colab_type": "code",
        "colab": {}
      },
      "cell_type": "code",
      "source": [
        ""
      ],
      "execution_count": 0,
      "outputs": []
    }
  ]
}